{
 "cells": [
  {
   "cell_type": "markdown",
   "metadata": {},
   "source": [
    "# Python中*args 和**kwargs的用法\n",
    "1. 通过一个函数调用来理解’*’的作用 \n",
    "2. 通过一个函数的定义来理解’*args’的含义 \n",
    "3. 通过一个函数的调用来理解’**’的作用 \n",
    "4. 通过一个函数的定义来解’**kwargs’的含义"
   ]
  },
  {
   "cell_type": "markdown",
   "metadata": {},
   "source": [
    "## 通过一个函数调用来理解’*’的作用"
   ]
  },
  {
   "cell_type": "code",
   "execution_count": 1,
   "metadata": {},
   "outputs": [
    {
     "name": "stdout",
     "output_type": "stream",
     "text": [
      "1 2 3\n",
      "4 5 6\n"
     ]
    }
   ],
   "source": [
    "def fun(a,b,c):\n",
    "    print(a,b,c)\n",
    "\n",
    "fun(1,2,3)\n",
    "l = [4,5,6]\n",
    "t = [4,5,6,7]\n",
    "fun(*l)\n",
    "# fun(*d) # error"
   ]
  },
  {
   "cell_type": "markdown",
   "metadata": {},
   "source": [
    "### 小结\n",
    "* ‘*’ 做了什么？\n",
    "拆开数列’l’的数值作为位置参数，并传给函数’fun’来调用"
   ]
  },
  {
   "cell_type": "markdown",
   "metadata": {},
   "source": [
    "## 通过一个函数的定义来理解’*args’的含义"
   ]
  },
  {
   "cell_type": "code",
   "execution_count": 2,
   "metadata": {},
   "outputs": [
    {
     "name": "stdout",
     "output_type": "stream",
     "text": [
      "--------example 1--------\n",
      "(13,)\n",
      "(13, 15, 16)\n",
      "--------example 2--------\n",
      "a is: 13\n",
      "args is: ()\n",
      "a is: 13\n",
      "args is: (15, 16)\n",
      "--------example 3--------\n",
      "1\n",
      "2\n",
      "(3, 4, 5)\n",
      "--------example 4--------\n",
      "1\n",
      "(2, 3, 4, 5)\n",
      "1\n"
     ]
    }
   ],
   "source": [
    "# example 1\n",
    "def fun(*args):\n",
    "    print(args)\n",
    "\n",
    "print('-'*8 + 'example 1'+ '-'*8)\n",
    "fun(13)\n",
    "fun(13,15,16)\n",
    "\n",
    "\n",
    "# example 2\n",
    "def fun(a, *args):\n",
    "    print('a is:', a)\n",
    "    print('args is:', args)\n",
    "\n",
    "print('-'*8 + 'example 2'+ '-'*8)    \n",
    "fun(13)\n",
    "fun(13,15,16)\n",
    "\n",
    "# example 3\n",
    "def foo(x,y=1,*args):\n",
    "    print(x)\n",
    "    print(y)\n",
    "    print(args)\n",
    "\n",
    "print('-'*8 + 'example 3'+ '-'*8)\n",
    "foo(1,2,3,4,5)\n",
    "\n",
    "# example 4\n",
    "def foo(x,*args,y=1):\n",
    "    print(x)\n",
    "    print(args)\n",
    "    print(y)\n",
    "\n",
    "print('-'*8 + 'example 4'+ '-'*8)\n",
    "foo(1,2,3,4,5)\n"
   ]
  },
  {
   "cell_type": "markdown",
   "metadata": {},
   "source": [
    "### 小结\n",
    "* *args：表示的就是将实参中按照位置传值，多出来的值都给args，且以元祖的方式呈现"
   ]
  },
  {
   "cell_type": "markdown",
   "metadata": {},
   "source": [
    "### 通过一个函数的调用来理解’**’的作用"
   ]
  },
  {
   "cell_type": "code",
   "execution_count": 3,
   "metadata": {},
   "outputs": [
    {
     "name": "stdout",
     "output_type": "stream",
     "text": [
      "--------example 1--------\n",
      "1 5 7\n",
      "1 5 7\n"
     ]
    }
   ],
   "source": [
    "# example 1\n",
    "def fun(a, b, c):\n",
    "    print(a, b, c)\n",
    "\n",
    "print('-'*8 + 'example 1'+ '-'*8)\n",
    "fun(1,5,7)\n",
    "\n",
    "d={'b':5, 'c':7}\n",
    "fun(1, **d)"
   ]
  },
  {
   "cell_type": "markdown",
   "metadata": {},
   "source": [
    "### 小结\n",
    "* ”**”做了什么？ unpack字典，并将字典中的数据项作为键值参数传给函数"
   ]
  },
  {
   "cell_type": "markdown",
   "metadata": {},
   "source": [
    "## 通过函数定义来理解’**kwargs’的含义"
   ]
  },
  {
   "cell_type": "code",
   "execution_count": 4,
   "metadata": {},
   "outputs": [
    {
     "name": "stdout",
     "output_type": "stream",
     "text": [
      "--------example 1--------\n",
      "{'b': 6}\n",
      "{'b': 6, 'd': 8, 'c': 7}\n",
      "--------example 2--------\n",
      "a is: 1\n",
      "kwargs is: {'b': 6}\n",
      "a is: 1\n",
      "kwargs is: {'b': 6, 'd': 8, 'c': 7}\n"
     ]
    }
   ],
   "source": [
    "# example 1\n",
    "def fun(**kwargs):\n",
    "    print(kwargs)\n",
    "\n",
    "print('-'*8 + 'example 1'+ '-'*8)\n",
    "fun( b=6)\n",
    "fun( b=6, c=7, d=8)\n",
    "\n",
    "# example 2\n",
    "def fun(a, **kwargs):\n",
    "    print('a is:', a)\n",
    "    print('kwargs is:', kwargs)\n",
    "\n",
    "\n",
    "print('-'*8 + 'example 2'+ '-'*8)\n",
    "fun(1, b=6)\n",
    "fun(1, b=6, c=7, d=8)"
   ]
  },
  {
   "cell_type": "markdown",
   "metadata": {},
   "source": [
    "### 小结\n",
    "* ”**kwargs”定义函数,kwargs接收除常规参数列表职位的键值参数字典。在这里’kwargs’是个字典。"
   ]
  },
  {
   "cell_type": "markdown",
   "metadata": {},
   "source": [
    "## **kwargs与位置参数、*args、默认参数"
   ]
  },
  {
   "cell_type": "code",
   "execution_count": 5,
   "metadata": {},
   "outputs": [
    {
     "name": "stdout",
     "output_type": "stream",
     "text": [
      "1\n",
      "(2, 3, 4)\n",
      "{'y': 1, 'b': 3, 'c': 4, 'a': 2}\n"
     ]
    }
   ],
   "source": [
    "def foo(x,*args,**kwargs):\n",
    "    print(x)\n",
    "    print(args)\n",
    "    print(kwargs)\n",
    "foo(1,2,3,4,y=1,a=2,b=3,c=4)\n",
    "\n",
    "# Error\n",
    "# def foo(x,**kwargs,*args):\n",
    "#     print(x)\n",
    "#     print(args)\n",
    "#     print(kwargs)\n",
    "# foo(1,y=1,a=2,b=3,c=4,2,3,4)"
   ]
  },
  {
   "cell_type": "markdown",
   "metadata": {},
   "source": [
    "## 总结\n",
    "* 位置参数、*args、**kwargs三者的顺序必须是位置参数、*args、**kwargs\n",
    "* 位置参数，默认参数，*args,**kwargs"
   ]
  },
  {
   "cell_type": "code",
   "execution_count": null,
   "metadata": {},
   "outputs": [],
   "source": []
  }
 ],
 "metadata": {
  "kernelspec": {
   "display_name": "Python (commdity)",
   "language": "python",
   "name": "commdity"
  },
  "language_info": {
   "codemirror_mode": {
    "name": "ipython",
    "version": 3
   },
   "file_extension": ".py",
   "mimetype": "text/x-python",
   "name": "python",
   "nbconvert_exporter": "python",
   "pygments_lexer": "ipython3",
   "version": "3.5.5"
  }
 },
 "nbformat": 4,
 "nbformat_minor": 2
}
