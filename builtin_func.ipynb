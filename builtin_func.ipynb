{
 "cells": [
  {
   "cell_type": "markdown",
   "metadata": {},
   "source": [
    "# 学习python自带的 buildin 函数"
   ]
  },
  {
   "cell_type": "code",
   "execution_count": 20,
   "metadata": {},
   "outputs": [
    {
     "name": "stdout",
     "output_type": "stream",
     "text": [
      "batch_ids:\n",
      " [57 94 14 95 28 46 18 88 87 64 24 51]\n",
      "[batch_ids]:\n",
      " [57 94 14 95 28 46 18 88 87 64 24 51]\n",
      "batch_ids:\n",
      " [67 47 49 39 23 96 35 30 10 93 16 66]\n",
      "[batch_ids]:\n",
      " [67 47 49 39 23 96 35 30 10 93 16 66]\n",
      "batch_ids:\n",
      " [60 90 27 80 63  6 34 38 68 42  5 50]\n",
      "[batch_ids]:\n",
      " [60 90 27 80 63  6 34 38 68 42  5 50]\n",
      "batch_ids:\n",
      " [99 85 77 91 52 58 92 29 33 75 89 56]\n",
      "[batch_ids]:\n",
      " [99 85 77 91 52 58 92 29 33 75 89 56]\n",
      "batch_ids:\n",
      " [15  0 70  7 37 82 21 44 71 45  8  4]\n",
      "[batch_ids]:\n",
      " [15  0 70  7 37 82 21 44 71 45  8  4]\n",
      "batch_ids:\n",
      " [43 55 19 17 20 25 31  1 40 79 36 69]\n",
      "[batch_ids]:\n",
      " [43 55 19 17 20 25 31  1 40 79 36 69]\n",
      "batch_ids:\n",
      " [53 84 13 11 81 86 12 41 65 74 26  3]\n",
      "[batch_ids]:\n",
      " [53 84 13 11 81 86 12 41 65 74 26  3]\n",
      "batch_ids:\n",
      " [62 61 72 78 59 97  9 54 73 76 22 48]\n",
      "[batch_ids]:\n",
      " [62 61 72 78 59 97  9 54 73 76 22 48]\n",
      "batch_ids:\n",
      " [98 83  2 32]\n",
      "[batch_ids]:\n",
      " [98 83  2 32]\n",
      "batch_ids:\n",
      " slice(0, 12, None)\n",
      "[batch_ids]:\n",
      " [ 0  1  2  3  4  5  6  7  8  9 10 11]\n",
      "batch_ids:\n",
      " slice(12, 24, None)\n",
      "[batch_ids]:\n",
      " [12 13 14 15 16 17 18 19 20 21 22 23]\n",
      "batch_ids:\n",
      " slice(24, 36, None)\n",
      "[batch_ids]:\n",
      " [24 25 26 27 28 29 30 31 32 33 34 35]\n",
      "batch_ids:\n",
      " slice(36, 48, None)\n",
      "[batch_ids]:\n",
      " [36 37 38 39 40 41 42 43 44 45 46 47]\n",
      "batch_ids:\n",
      " slice(48, 60, None)\n",
      "[batch_ids]:\n",
      " [48 49 50 51 52 53 54 55 56 57 58 59]\n",
      "batch_ids:\n",
      " slice(60, 72, None)\n",
      "[batch_ids]:\n",
      " [60 61 62 63 64 65 66 67 68 69 70 71]\n",
      "batch_ids:\n",
      " slice(72, 84, None)\n",
      "[batch_ids]:\n",
      " [72 73 74 75 76 77 78 79 80 81 82 83]\n",
      "batch_ids:\n",
      " slice(84, 96, None)\n",
      "[batch_ids]:\n",
      " [84 85 86 87 88 89 90 91 92 93 94 95]\n",
      "batch_ids:\n",
      " slice(96, 100, None)\n",
      "[batch_ids]:\n",
      " [96 97 98 99]\n"
     ]
    }
   ],
   "source": [
    "# slice function\n",
    "\n",
    "import numpy as np\n",
    "\n",
    "def make_batches(size, batch_size):\n",
    "    nb_batch = int(np.ceil(size/float(batch_size)))\n",
    "    return [(i*batch_size, min(size, (i+1)*batch_size)) for i in range(0, nb_batch)]\n",
    "\n",
    "X = np.array([i for i in range(0,100)])\n",
    "index_array = np.arange(len(X))\n",
    "np.random.shuffle(index_array)\n",
    "\n",
    "batch_size = 12\n",
    "batches = make_batches(len(X), batch_size)\n",
    "shuffle = True\n",
    "\n",
    "def fit(batches, shuffle=True):\n",
    "    for batch_index, (batch_start, batch_end) in enumerate(batches):\n",
    "        if shuffle:\n",
    "            batch_ids = index_array[batch_start:batch_end]\n",
    "        else:\n",
    "            batch_ids = slice(batch_start, batch_end)\n",
    "        \n",
    "#         if batch_index%2 == 0:\n",
    "        print('batch_ids:\\n', batch_ids)\n",
    "        print('[batch_ids]:\\n', X[batch_ids])\n",
    "\n",
    "fit(batches, shuffle=True)\n",
    "\n",
    "fit(batches, shuffle=False)        "
   ]
  },
  {
   "cell_type": "code",
   "execution_count": 25,
   "metadata": {},
   "outputs": [
    {
     "data": {
      "text/plain": [
       "3"
      ]
     },
     "execution_count": 25,
     "metadata": {},
     "output_type": "execute_result"
    }
   ],
   "source": [
    "a = int(np.ceil(2.1))\n",
    "a"
   ]
  },
  {
   "cell_type": "code",
   "execution_count": null,
   "metadata": {},
   "outputs": [],
   "source": []
  }
 ],
 "metadata": {
  "kernelspec": {
   "display_name": "Python (commdity)",
   "language": "python",
   "name": "commdity"
  },
  "language_info": {
   "codemirror_mode": {
    "name": "ipython",
    "version": 3
   },
   "file_extension": ".py",
   "mimetype": "text/x-python",
   "name": "python",
   "nbconvert_exporter": "python",
   "pygments_lexer": "ipython3",
   "version": "3.5.5"
  }
 },
 "nbformat": 4,
 "nbformat_minor": 2
}
