{
 "cells": [
  {
   "cell_type": "markdown",
   "metadata": {},
   "source": [
    "#  h5py learning"
   ]
  },
  {
   "cell_type": "code",
   "execution_count": 1,
   "metadata": {},
   "outputs": [
    {
     "name": "stderr",
     "output_type": "stream",
     "text": [
      "/home/syh/.conda/envs/commdity/lib/python3.5/site-packages/h5py/__init__.py:36: FutureWarning: Conversion of the second argument of issubdtype from `float` to `np.floating` is deprecated. In future, it will be treated as `np.float64 == np.dtype(float).type`.\n",
      "  from ._conv import register_converters as _register_converters\n"
     ]
    }
   ],
   "source": [
    "import h5py\n",
    "import numpy as np"
   ]
  },
  {
   "cell_type": "code",
   "execution_count": null,
   "metadata": {},
   "outputs": [],
   "source": []
  },
  {
   "cell_type": "markdown",
   "metadata": {},
   "source": []
  },
  {
   "cell_type": "code",
   "execution_count": 22,
   "metadata": {},
   "outputs": [
    {
     "name": "stdout",
     "output_type": "stream",
     "text": [
      "test_numpy\n",
      "/test_numpy\n",
      "(10,)\n",
      "[0 1 2 3 4 5 6 7 8 9]\n",
      "[0 1 2 3 4 5 6 7 8 9]\n"
     ]
    }
   ],
   "source": [
    "x = np.arange(10)\n",
    "filename = 'test.h5'\n",
    "def save_data(filename, data):\n",
    "    with h5py.File(filename,'w') as f:\n",
    "        f.create_dataset('test_numpy',data=x)\n",
    "\n",
    "def load_data(filename):\n",
    "    with h5py.File(filename,'r') as f:\n",
    "        data = f['test_numpy']\n",
    "        res = data[:]\n",
    "    return res\n",
    "\n",
    "def view_h5py(filename):\n",
    "    \n",
    "    with h5py.File(filename,'r') as f:\n",
    "        for key in f.keys():\n",
    "            print(key)\n",
    "            print(f[key].name)\n",
    "            print(f[key].shape)  \n",
    "            print(f[key].value)\n",
    "\n",
    "\n",
    "\n",
    "# save_data(filename, x)\n",
    "data = load_data(filename)\n",
    "view_h5py(filename)\n",
    "print(data)"
   ]
  },
  {
   "cell_type": "code",
   "execution_count": 24,
   "metadata": {},
   "outputs": [
    {
     "name": "stdout",
     "output_type": "stream",
     "text": [
      "KeysView(<HDF5 file \"test.h5\" (mode r)>)\n",
      "(10,)\n"
     ]
    }
   ],
   "source": [
    "f = h5py.File(filename, 'r')\n",
    "print(f.keys())\n",
    "dset = load_data(filename)\n",
    "type(dset)\n",
    "print(dset.shape)"
   ]
  },
  {
   "cell_type": "code",
   "execution_count": null,
   "metadata": {},
   "outputs": [],
   "source": []
  }
 ],
 "metadata": {
  "kernelspec": {
   "display_name": "Python (commdity)",
   "language": "python",
   "name": "commdity"
  },
  "language_info": {
   "codemirror_mode": {
    "name": "ipython",
    "version": 3
   },
   "file_extension": ".py",
   "mimetype": "text/x-python",
   "name": "python",
   "nbconvert_exporter": "python",
   "pygments_lexer": "ipython3",
   "version": "3.5.5"
  }
 },
 "nbformat": 4,
 "nbformat_minor": 2
}
