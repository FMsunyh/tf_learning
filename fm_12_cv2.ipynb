{
 "cells": [
  {
   "cell_type": "code",
   "execution_count": 10,
   "metadata": {},
   "outputs": [],
   "source": [
    "import os\n",
    "import cv2\n",
    "import numpy as np\n",
    "from PIL import Image"
   ]
  },
  {
   "cell_type": "code",
   "execution_count": 26,
   "metadata": {},
   "outputs": [],
   "source": [
    "def read_image_rgb(path):\n",
    "    try:\n",
    "        image = np.asarray(PIL.Image.open(path).convert('RGB'))\n",
    "    except Exception as ex:\n",
    "        print('{}'.format(path))\n",
    "\n",
    "    return image.copy()\n",
    "\n",
    "def CV2PIL(image):\n",
    "    img = Image.fromarray(cv2.cvtColor(image,cv2.COLOR_BGR2RGB))  \n",
    "\n",
    "    return img.copy()\n",
    "\n",
    "\n",
    "def PIL2CV(image):\n",
    "    img = cv2.cvtColor(np.asarray(image),cv2.COLOR_RGB2BGR) \n",
    "\n",
    "    return img.copy()\n",
    "\n",
    "\n",
    "def resize_image(img, min_side=800, max_side=1333):\n",
    "    \"\"\" Resize an image such that the size is constrained to min_side and max_side.\n",
    "    Args\n",
    "        min_side: The image's min side will be equal to min_side after resizing.\n",
    "        max_side: If after resizing the image's max side is above max_side, resize until the max side is equal to max_side.\n",
    "    Returns\n",
    "        A resized image.\n",
    "    \"\"\"\n",
    "    (rows, cols, _) = img.shape\n",
    "\n",
    "    smallest_side = min(rows, cols)\n",
    "\n",
    "    # rescale the image so the smallest side is min_side\n",
    "    scale = min_side / smallest_side\n",
    "\n",
    "    # check if the largest side is now greater than max_side, which can happen\n",
    "    # when images have a large aspect ratio\n",
    "    largest_side = max(rows, cols)\n",
    "    if largest_side * scale > max_side:\n",
    "        scale = max_side / largest_side\n",
    "\n",
    "    # resize the image with the computed scale\n",
    "    img = cv2.resize(img, None, fx=scale, fy=scale)\n",
    "\n",
    "    return img, scale"
   ]
  },
  {
   "cell_type": "code",
   "execution_count": 27,
   "metadata": {},
   "outputs": [
    {
     "data": {
      "text/plain": [
       "(666, 1333, 3)"
      ]
     },
     "execution_count": 27,
     "metadata": {},
     "output_type": "execute_result"
    }
   ],
   "source": [
    "im = Image.new('RGB', (1000, 500), 'red')\n",
    "im = PIL2CV(im)\n",
    "img, scale = resize_image(im)\n",
    "\n",
    "img.size\n",
    "img.shape"
   ]
  },
  {
   "cell_type": "code",
   "execution_count": null,
   "metadata": {},
   "outputs": [],
   "source": []
  }
 ],
 "metadata": {
  "kernelspec": {
   "display_name": "Python 3",
   "language": "python",
   "name": "python3"
  },
  "language_info": {
   "codemirror_mode": {
    "name": "ipython",
    "version": 3
   },
   "file_extension": ".py",
   "mimetype": "text/x-python",
   "name": "python",
   "nbconvert_exporter": "python",
   "pygments_lexer": "ipython3",
   "version": "3.6.4"
  }
 },
 "nbformat": 4,
 "nbformat_minor": 2
}
