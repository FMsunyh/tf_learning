{
 "cells": [
  {
   "cell_type": "code",
   "execution_count": 8,
   "metadata": {},
   "outputs": [
    {
     "name": "stdout",
     "output_type": "stream",
     "text": [
      "current version of tensorflow 2.0.0-alpha0\n"
     ]
    }
   ],
   "source": [
    "from __future__ import print_function\n",
    "\n",
    "import tensorflow\n",
    "import sys\n",
    "\n",
    "minimum_tensorflow_version = 1, 10, 0\n",
    "\n",
    "def tensorflow_version():\n",
    "    \"\"\" Get the Keras version.\n",
    "    Returns\n",
    "        tuple of (major, minor, patch).\n",
    "    \"\"\"\n",
    "    print('current version of tensorflow', tensorflow.__version__)\n",
    "\n",
    "    return tuple(map(int, tensorflow.__version__.split('.')))\n",
    "\n",
    "\n",
    "def tensorflow_version_ok():\n",
    "    \"\"\" Check if the current Keras version is higher than the minimum version.\n",
    "    \"\"\"\n",
    "    return tensorflow_version() >= minimum_tensorflow_version\n",
    "\n",
    "\n",
    "def assert_tensorflow_version():\n",
    "    \"\"\" Assert that the Keras version is up to date.\n",
    "    \"\"\"\n",
    "    detected = tensorflow.__version__\n",
    "    required = '.'.join(map(str, minimum_tensorflow_version))\n",
    "    assert(tensorflow_version() >= minimum_tensorflow_version), 'You are using tensorflow version {}. The minimum required version is {}.'.format(detected, required)\n",
    "\n",
    "\n",
    "def check_tensorflow_version():\n",
    "    \"\"\" Check that the Keras version is up to date. If it isn't, print an error message and exit the script.\n",
    "    \"\"\"\n",
    "    try:\n",
    "        assert_tensorflow_version()\n",
    "    except AssertionError as e:\n",
    "        print(e, file=sys.stderr)\n",
    "        sys.exit(1)\n",
    "\n",
    "if __name__ == '__main__':\n",
    "    # tensorflow_version()\n",
    "    # check_tensorflow_version()\n",
    "    \n",
    "    print('current version of tensorflow', tensorflow.__version__)"
   ]
  },
  {
   "cell_type": "code",
   "execution_count": 9,
   "metadata": {},
   "outputs": [
    {
     "ename": "ValueError",
     "evalue": "invalid literal for int() with base 10: '0-alpha0'",
     "traceback": [
      "\u001b[0;31m---------------------------------------------------------------------------\u001b[0m",
      "\u001b[0;31mValueError\u001b[0m                                Traceback (most recent call last)",
      "\u001b[0;32m<ipython-input-9-537ff63ac647>\u001b[0m in \u001b[0;36m<module>\u001b[0;34m\u001b[0m\n\u001b[0;32m----> 1\u001b[0;31m \u001b[0mtuple\u001b[0m\u001b[0;34m(\u001b[0m\u001b[0mmap\u001b[0m\u001b[0;34m(\u001b[0m\u001b[0mint\u001b[0m\u001b[0;34m,\u001b[0m \u001b[0mtensorflow\u001b[0m\u001b[0;34m.\u001b[0m\u001b[0m__version__\u001b[0m\u001b[0;34m.\u001b[0m\u001b[0msplit\u001b[0m\u001b[0;34m(\u001b[0m\u001b[0;34m'.'\u001b[0m\u001b[0;34m)\u001b[0m\u001b[0;34m)\u001b[0m\u001b[0;34m)\u001b[0m\u001b[0;34m\u001b[0m\u001b[0m\n\u001b[0m",
      "\u001b[0;31mValueError\u001b[0m: invalid literal for int() with base 10: '0-alpha0'"
     ],
     "output_type": "error"
    }
   ],
   "source": [
    "tuple(map(int, tensorflow.__version__.split('.')))"
   ]
  },
  {
   "cell_type": "code",
   "execution_count": null,
   "metadata": {},
   "outputs": [],
   "source": []
  },
  {
   "cell_type": "code",
   "execution_count": null,
   "metadata": {},
   "outputs": [],
   "source": []
  }
 ],
 "metadata": {
  "kernelspec": {
   "display_name": "Python (models)",
   "language": "python",
   "name": "models"
  },
  "language_info": {
   "codemirror_mode": {
    "name": "ipython",
    "version": 3
   },
   "file_extension": ".py",
   "mimetype": "text/x-python",
   "name": "python",
   "nbconvert_exporter": "python",
   "pygments_lexer": "ipython3",
   "version": "3.5.6"
  }
 },
 "nbformat": 4,
 "nbformat_minor": 2
}
